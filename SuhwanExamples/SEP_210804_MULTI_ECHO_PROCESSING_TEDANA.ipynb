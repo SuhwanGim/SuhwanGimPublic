{
 "cells": [
  {
   "cell_type": "code",
   "execution_count": 1,
   "metadata": {},
   "outputs": [
    {
     "name": "stderr",
     "output_type": "stream",
     "text": [
      "Module `duecredit` not successfully imported due to \"No module named 'duecredit'\". Package functionality unaffected.\n",
      "Failed to import duecredit due to No module named 'duecredit'\n"
     ]
    }
   ],
   "source": [
    "#!pip install tedana\n",
    "%matplotlib inline\n",
    "import os\n",
    "import os.path as op\n",
    "from glob import glob\n",
    "import webbrowser\n",
    "\n",
    "from tedana.workflows import tedana_workflow\n",
    "from tedana.workflows import t2smap_workflow\n",
    "#from tedana._utils import tedana_utils"
   ]
  },
  {
   "cell_type": "code",
   "execution_count": 3,
   "metadata": {},
   "outputs": [
    {
     "name": "stdout",
     "output_type": "stream",
     "text": [
      "Defaulting to user installation because normal site-packages is not writeable\n",
      "Requirement already satisfied: tedana in /Users/suhwan/.local/lib/python3.7/site-packages (0.0.10)\n",
      "Requirement already satisfied: threadpoolctl in /Users/suhwan/.local/lib/python3.7/site-packages (from tedana) (2.2.0)\n",
      "Requirement already satisfied: scipy>=1.1.0 in /Users/suhwan/.local/lib/python3.7/site-packages (from tedana) (1.7.1)\n",
      "Requirement already satisfied: pandas in /Users/suhwan/.local/lib/python3.7/site-packages (from tedana) (1.3.1)\n",
      "Requirement already satisfied: numpy>=1.15 in /Users/suhwan/.local/lib/python3.7/site-packages (from tedana) (1.21.1)\n",
      "Requirement already satisfied: nibabel>=2.5.1 in /Users/suhwan/.local/lib/python3.7/site-packages (from tedana) (3.2.1)\n",
      "Requirement already satisfied: scikit-learn>=0.19.1 in /Users/suhwan/.local/lib/python3.7/site-packages (from tedana) (0.24.2)\n",
      "Requirement already satisfied: matplotlib in /Users/suhwan/.local/lib/python3.7/site-packages (from tedana) (3.4.2)\n",
      "Requirement already satisfied: bokeh in /Users/suhwan/.local/lib/python3.7/site-packages (from tedana) (2.3.3)\n",
      "Requirement already satisfied: nilearn>=0.5.2 in /Users/suhwan/.local/lib/python3.7/site-packages (from tedana) (0.8.0)\n",
      "Requirement already satisfied: mapca~=0.0.1 in /Users/suhwan/.local/lib/python3.7/site-packages (from tedana) (0.0.1)\n",
      "Requirement already satisfied: packaging>=14.3 in /Users/suhwan/.local/lib/python3.7/site-packages (from nibabel>=2.5.1->tedana) (21.0)\n",
      "Requirement already satisfied: requests>=2 in /Users/suhwan/.local/lib/python3.7/site-packages (from nilearn>=0.5.2->tedana) (2.26.0)\n",
      "Requirement already satisfied: joblib>=0.12 in /Users/suhwan/.local/lib/python3.7/site-packages (from nilearn>=0.5.2->tedana) (1.0.1)\n",
      "Requirement already satisfied: pyparsing>=2.0.2 in /Users/suhwan/.local/lib/python3.7/site-packages (from packaging>=14.3->nibabel>=2.5.1->tedana) (2.4.7)\n",
      "Requirement already satisfied: pytz>=2017.3 in /Users/suhwan/.local/lib/python3.7/site-packages (from pandas->tedana) (2021.1)\n",
      "Requirement already satisfied: python-dateutil>=2.7.3 in /Users/suhwan/.local/lib/python3.7/site-packages (from pandas->tedana) (2.8.2)\n",
      "Requirement already satisfied: six>=1.5 in /Users/suhwan/.local/lib/python3.7/site-packages (from python-dateutil>=2.7.3->pandas->tedana) (1.16.0)\n",
      "Requirement already satisfied: charset-normalizer~=2.0.0 in /Users/suhwan/.local/lib/python3.7/site-packages (from requests>=2->nilearn>=0.5.2->tedana) (2.0.4)\n",
      "Requirement already satisfied: urllib3<1.27,>=1.21.1 in /Users/suhwan/.local/lib/python3.7/site-packages (from requests>=2->nilearn>=0.5.2->tedana) (1.26.6)\n",
      "Requirement already satisfied: idna<4,>=2.5 in /Users/suhwan/.local/lib/python3.7/site-packages (from requests>=2->nilearn>=0.5.2->tedana) (3.2)\n",
      "Requirement already satisfied: certifi>=2017.4.17 in /Users/admin/opt/anaconda3/envs/ME_preproc/lib/python3.7/site-packages (from requests>=2->nilearn>=0.5.2->tedana) (2021.5.30)\n",
      "Requirement already satisfied: typing-extensions>=3.7.4 in /Users/suhwan/.local/lib/python3.7/site-packages (from bokeh->tedana) (3.10.0.0)\n",
      "Requirement already satisfied: pillow>=7.1.0 in /Users/suhwan/.local/lib/python3.7/site-packages (from bokeh->tedana) (8.3.1)\n",
      "Requirement already satisfied: PyYAML>=3.10 in /Users/suhwan/.local/lib/python3.7/site-packages (from bokeh->tedana) (5.4.1)\n",
      "Requirement already satisfied: tornado>=5.1 in /Users/suhwan/.local/lib/python3.7/site-packages (from bokeh->tedana) (6.1)\n",
      "Requirement already satisfied: Jinja2>=2.9 in /Users/suhwan/.local/lib/python3.7/site-packages (from bokeh->tedana) (3.0.1)\n",
      "Requirement already satisfied: MarkupSafe>=2.0 in /Users/suhwan/.local/lib/python3.7/site-packages (from Jinja2>=2.9->bokeh->tedana) (2.0.1)\n",
      "Requirement already satisfied: cycler>=0.10 in /Users/suhwan/.local/lib/python3.7/site-packages (from matplotlib->tedana) (0.10.0)\n",
      "Requirement already satisfied: kiwisolver>=1.0.1 in /Users/suhwan/.local/lib/python3.7/site-packages (from matplotlib->tedana) (1.3.1)\n"
     ]
    }
   ],
   "source": [
    "#pip show tedana\n",
    "!pip install tedana --upgrade"
   ]
  },
  {
   "cell_type": "code",
   "execution_count": 13,
   "metadata": {},
   "outputs": [
    {
     "name": "stdout",
     "output_type": "stream",
     "text": [
      "CPU times: user 653 µs, sys: 1.1 ms, total: 1.76 ms\n",
      "Wall time: 2.55 ms\n"
     ]
    },
    {
     "data": {
      "text/plain": [
       "['/Users/suhwan/Dropbox/Projects/sync_SEP/data/coil_test/20210821_multi_echo_RAs/MYUNGEUN2_ME/preprocessed/4_3ME_CMRR_3ISO_PA_64CH_BOTTOM+FLEX_COIL_MB4_IA2_0007/ra20210821154513_4_3ME_CMRR_3iso_PA_64ch_bottom+flex_coil_mb4_IA2_7_e1.nii',\n",
       " '/Users/suhwan/Dropbox/Projects/sync_SEP/data/coil_test/20210821_multi_echo_RAs/MYUNGEUN2_ME/preprocessed/4_3ME_CMRR_3ISO_PA_64CH_BOTTOM+FLEX_COIL_MB4_IA2_0007/ra20210821154513_4_3ME_CMRR_3iso_PA_64ch_bottom+flex_coil_mb4_IA2_7_e2.nii',\n",
       " '/Users/suhwan/Dropbox/Projects/sync_SEP/data/coil_test/20210821_multi_echo_RAs/MYUNGEUN2_ME/preprocessed/4_3ME_CMRR_3ISO_PA_64CH_BOTTOM+FLEX_COIL_MB4_IA2_0007/ra20210821154513_4_3ME_CMRR_3iso_PA_64ch_bottom+flex_coil_mb4_IA2_7_e3.nii']"
      ]
     },
     "execution_count": 13,
     "metadata": {},
     "output_type": "execute_result"
    }
   ],
   "source": [
    "%%time\n",
    "#files = sorted(glob(op.join(dset_dir5, 'p06*.nii.gz')))\n",
    "\n",
    "basedir =  '/Users/suhwan/Dropbox/Projects/sync_SEP/data/coil_test/20210821_multi_echo_RAs/GEONWOO_ME_TEST/preprocessed/2_3ME_CMRR_3ISO_PA_64CH_BOTTOM_MB4_IA2_0007/'\n",
    "outdir2 =  '/Users/suhwan/Dropbox/Projects/sync_SEP/data/coil_test/20210821_multi_echo_RAs/GEONWOO_ME_TEST/preprocessed/2_3ME_CMRR_3ISO_PA_64CH_BOTTOM_MB4_IA2_0007/t2smap_outputs'\n",
    "\n",
    "\n",
    "basedir =  '/Users/suhwan/Dropbox/Projects/sync_SEP/data/coil_test/20210821_multi_echo_RAs/GEONWOO2_ME2/preprocessed/2_3ME_CMRR_3ISO_PA_64CH_BOTTOM_MB4_IA2_0007/'\n",
    "outdir =  '/Users/suhwan/Dropbox/Projects/sync_SEP/data/coil_test/20210821_multi_echo_RAs/GEONWOO2_ME2/preprocessed/2_3ME_CMRR_3ISO_PA_64CH_BOTTOM_MB4_IA2_0007/tedana_outputs'\n",
    "outdir2 =  '/Users/suhwan/Dropbox/Projects/sync_SEP/data/coil_test/20210821_multi_echo_RAs/GEONWOO2_ME2/preprocessed/2_3ME_CMRR_3ISO_PA_64CH_BOTTOM_MB4_IA2_0007/t2smap_outputs'\n",
    "\n",
    "\n",
    "basedir =  '/Users/suhwan/Dropbox/Projects/sync_SEP/data/coil_test/20210821_multi_echo_RAs/MYUNGEUN2_ME/preprocessed/4_3ME_CMRR_3ISO_PA_64CH_BOTTOM+FLEX_COIL_MB4_IA2_0007/'\n",
    "#outdir =  '/Users/suhwan/Dropbox/Projects/sync_SEP/data/coil_test/20210821_multi_echo_RAs/GEONWOO2_ME2/preprocessed/2_3ME_CMRR_3ISO_PA_64CH_BOTTOM_MB4_IA2_0007/tedana_outputs'\n",
    "outdir2 =  '/Users/suhwan/Dropbox/Projects/sync_SEP/data/coil_test/20210821_multi_echo_RAs/MYUNGEUN2_ME/preprocessed/4_3ME_CMRR_3ISO_PA_64CH_BOTTOM+FLEX_COIL_MB4_IA2_0007/t2smap_outputs'\n",
    "\n",
    "# basedir =  '/Users/suhwan/Dropbox/Projects/sync_SEP/data/coil_test/20210803_multi_echo/preprocessed/1_2_3ME_HALF_CMRR_2_7ISO_PA_64CH+FLEX_MB4_IA2_0007/'\n",
    "# outdir =  '/Users/suhwan/Dropbox/Projects/sync_SEP/data/coil_test/20210803_multi_echo/preprocessed/1_2_3ME_HALF_CMRR_2_7ISO_PA_64CH+FLEX_MB4_IA2_0007/tedana_outputs'\n",
    "# outdir2 =  '/Users/suhwan/Dropbox/Projects/sync_SEP/data/coil_test/20210803_multi_echo/preprocessed/1_2_3ME_HALF_CMRR_2_7ISO_PA_64CH+FLEX_MB4_IA2_0007/t2smap_outputs'\n",
    "files2 = sorted(glob(op.join(basedir, 'ra*e*.nii')))\n",
    "files2 "
   ]
  },
  {
   "cell_type": "code",
   "execution_count": 14,
   "metadata": {},
   "outputs": [
    {
     "data": {
      "text/plain": [
       "3"
      ]
     },
     "execution_count": 14,
     "metadata": {},
     "output_type": "execute_result"
    }
   ],
   "source": [
    "len(files2)"
   ]
  },
  {
   "cell_type": "code",
   "execution_count": 15,
   "metadata": {},
   "outputs": [],
   "source": [
    "# Example TR replacement code\n",
    "import nibabel as nib\n",
    "# Set values below by typing\n",
    "# Image you'd like to replace the TR for\n",
    "for i in range(0,len(files2)-1):\n",
    "    input_image = files2[i]\n",
    "    # The TR that the data should have IN SECONDS\n",
    "    new_tr = 1.2\n",
    "    # You can set the copy of the file to have a different name here\n",
    "    # By default, it overwrites the original\n",
    "    output_image = input_image\n",
    "\n",
    "    # Copy paste this    \n",
    "    img = nib.load(input_image)\n",
    "    zooms = img.header.get_zooms()\n",
    "    new_zooms = (zooms[0], zooms[1], zooms[2], new_tr)\n",
    "    img.header.set_zooms(new_zooms)\n",
    "    nib.save(img, output_image)"
   ]
  },
  {
   "cell_type": "code",
   "execution_count": 11,
   "metadata": {},
   "outputs": [],
   "source": [
    "from threadpoolctl import threadpool_limits"
   ]
  },
  {
   "cell_type": "code",
   "execution_count": 16,
   "metadata": {},
   "outputs": [
    {
     "name": "stderr",
     "output_type": "stream",
     "text": [
      "INFO:tedana.workflows.t2smap:Using output directory: /Users/suhwan/Dropbox/Projects/sync_SEP/data/coil_test/20210821_multi_echo_RAs/MYUNGEUN2_ME/preprocessed/4_3ME_CMRR_3ISO_PA_64CH_BOTTOM+FLEX_COIL_MB4_IA2_0007/t2smap_outputs\n",
      "INFO:tedana.workflows.t2smap:Loading input data: ['/Users/suhwan/Dropbox/Projects/sync_SEP/data/coil_test/20210821_multi_echo_RAs/MYUNGEUN2_ME/preprocessed/4_3ME_CMRR_3ISO_PA_64CH_BOTTOM+FLEX_COIL_MB4_IA2_0007/ra20210821154513_4_3ME_CMRR_3iso_PA_64ch_bottom+flex_coil_mb4_IA2_7_e1.nii', '/Users/suhwan/Dropbox/Projects/sync_SEP/data/coil_test/20210821_multi_echo_RAs/MYUNGEUN2_ME/preprocessed/4_3ME_CMRR_3ISO_PA_64CH_BOTTOM+FLEX_COIL_MB4_IA2_0007/ra20210821154513_4_3ME_CMRR_3iso_PA_64ch_bottom+flex_coil_mb4_IA2_7_e2.nii', '/Users/suhwan/Dropbox/Projects/sync_SEP/data/coil_test/20210821_multi_echo_RAs/MYUNGEUN2_ME/preprocessed/4_3ME_CMRR_3ISO_PA_64CH_BOTTOM+FLEX_COIL_MB4_IA2_0007/ra20210821154513_4_3ME_CMRR_3iso_PA_64ch_bottom+flex_coil_mb4_IA2_7_e3.nii']\n",
      "INFO:tedana.workflows.t2smap:Computing adaptive mask\n",
      "INFO:REPORT:An adaptive mask was then generated, in which each voxel's value reflects the number of echoes with 'good' data.\n",
      "INFO:tedana.workflows.t2smap:Computing adaptive T2* map\n",
      "INFO:REPORT:A monoexponential model was fit to the data at each voxel using nonlinear model fitting in order to estimate T2* and S0 maps, using T2*/S0 estimates from a log-linear fit as initial values. For each voxel, the value from the adaptive mask was used to determine which echoes would be used to estimate T2* and S0. In cases of model fit failure, T2*/S0 estimates from the log-linear fit were retained instead.\n",
      "/Users/suhwan/.local/lib/python3.7/site-packages/tedana/decay.py:267: RuntimeWarning: divide by zero encountered in true_divide\n",
      "  t2s = 1. / betas[1, :].T\n",
      "/Users/suhwan/.local/lib/python3.7/site-packages/scipy/optimize/_lsq/common.py:424: RuntimeWarning: invalid value encountered in subtract\n",
      "  upper_dist = ub - x\n",
      "/Users/suhwan/.local/lib/python3.7/site-packages/scipy/optimize/_numdiff.py:57: RuntimeWarning: invalid value encountered in subtract\n",
      "  upper_dist = ub - x0\n",
      "/Users/suhwan/.local/lib/python3.7/site-packages/scipy/optimize/_numdiff.py:556: RuntimeWarning: invalid value encountered in double_scalars\n",
      "  dx = x[i] - x0[i]  # Recompute dx as exactly representable number.\n",
      "INFO:tedana.workflows.t2smap:Computing optimal combination\n",
      "INFO:tedana.combine:Optimally combining data with voxel-wise T2* estimates\n",
      "INFO:REPORT:Multi-echo data were then optimally combined using the T2* combination method (Posse et al., 1999).\n",
      "INFO:REFERENCES:Posse, S., Wiese, S., Gembris, D., Mathiak, K., Kessler, C., Grosse‐Ruyken, M. L., ... & Kiselev, V. G. (1999). Enhancement of BOLD‐contrast sensitivity by single‐shot multi‐echo functional MR imaging. Magnetic Resonance in Medicine: An Official Journal of the International Society for Magnetic Resonance in Medicine, 42(1), 87-97.\n"
     ]
    }
   ],
   "source": [
    "# RUN TEDANA\n",
    "tes = [15.2, 36.4, 57.6]\n",
    "#tedana_workflow(files2, tes, out_dir=outdir, tedort=False, fittype='curvefit',gscontrol='gsr')\n",
    "n_threads = 10\n",
    "n_threads = None if n_threads == -1 else n_threads\n",
    "with threadpool_limits(limits=n_threads, user_api=None):\n",
    "    t2smap_workflow(files2, tes, out_dir=outdir2, fittype='curvefit')"
   ]
  },
  {
   "cell_type": "code",
   "execution_count": 38,
   "metadata": {},
   "outputs": [
    {
     "name": "stderr",
     "output_type": "stream",
     "text": [
      "INFO:tedana.workflows.tedana:Using output directory: /Users/suhwan/Dropbox/Projects/sync_SEP/data/coil_test/20210821_multi_echo_RAs/GEONWOO2_ME2/preprocessed/1_3ME_CMRR_3ISO_PA_64CH_MB4_IA2_0005/tedana_outputs\n",
      "Using output directory: /Users/suhwan/Dropbox/Projects/sync_SEP/data/coil_test/20210821_multi_echo_RAs/GEONWOO2_ME2/preprocessed/1_3ME_CMRR_3ISO_PA_64CH_MB4_IA2_0005/tedana_outputs\n",
      "INFO:tedana.workflows.tedana:Loading input data: ['/Users/suhwan/Dropbox/Projects/sync_SEP/data/coil_test/20210821_multi_echo_RAs/GEONWOO2_ME2/preprocessed/1_3ME_CMRR_3ISO_PA_64CH_MB4_IA2_0005/ra20210821151325_1_3ME_CMRR_3iso_PA_64ch_mb4_IA2_5_e1.nii', '/Users/suhwan/Dropbox/Projects/sync_SEP/data/coil_test/20210821_multi_echo_RAs/GEONWOO2_ME2/preprocessed/1_3ME_CMRR_3ISO_PA_64CH_MB4_IA2_0005/ra20210821151325_1_3ME_CMRR_3iso_PA_64ch_mb4_IA2_5_e2.nii', '/Users/suhwan/Dropbox/Projects/sync_SEP/data/coil_test/20210821_multi_echo_RAs/GEONWOO2_ME2/preprocessed/1_3ME_CMRR_3ISO_PA_64CH_MB4_IA2_0005/ra20210821151325_1_3ME_CMRR_3iso_PA_64ch_mb4_IA2_5_e3.nii']\n",
      "Loading input data: ['/Users/suhwan/Dropbox/Projects/sync_SEP/data/coil_test/20210821_multi_echo_RAs/GEONWOO2_ME2/preprocessed/1_3ME_CMRR_3ISO_PA_64CH_MB4_IA2_0005/ra20210821151325_1_3ME_CMRR_3iso_PA_64ch_mb4_IA2_5_e1.nii', '/Users/suhwan/Dropbox/Projects/sync_SEP/data/coil_test/20210821_multi_echo_RAs/GEONWOO2_ME2/preprocessed/1_3ME_CMRR_3ISO_PA_64CH_MB4_IA2_0005/ra20210821151325_1_3ME_CMRR_3iso_PA_64ch_mb4_IA2_5_e2.nii', '/Users/suhwan/Dropbox/Projects/sync_SEP/data/coil_test/20210821_multi_echo_RAs/GEONWOO2_ME2/preprocessed/1_3ME_CMRR_3ISO_PA_64CH_MB4_IA2_0005/ra20210821151325_1_3ME_CMRR_3iso_PA_64ch_mb4_IA2_5_e3.nii']\n",
      "INFO:REPORT:TE-dependence analysis was performed on input data.\n",
      "INFO:tedana.workflows.tedana:Computing EPI mask from first echo\n",
      "Computing EPI mask from first echo\n",
      "INFO:REPORT:An initial mask was generated from the first echo using nilearn's compute_epi_mask function.\n",
      "INFO:REPORT:An adaptive mask was then generated, in which each voxel's value reflects the number of echoes with 'good' data.\n",
      "INFO:tedana.workflows.tedana:Computing T2* map\n",
      "Computing T2* map\n",
      "INFO:REPORT:A monoexponential model was fit to the data at each voxel using nonlinear model fitting in order to estimate T2* and S0 maps, using T2*/S0 estimates from a log-linear fit as initial values. For each voxel, the value from the adaptive mask was used to determine which echoes would be used to estimate T2* and S0. In cases of model fit failure, T2*/S0 estimates from the log-linear fit were retained instead.\n",
      "INFO:tedana.combine:Optimally combining data with voxel-wise T2* estimates\n",
      "Optimally combining data with voxel-wise T2* estimates\n",
      "INFO:REPORT:Multi-echo data were then optimally combined using the T2* combination method (Posse et al., 1999).\n",
      "INFO:REFERENCES:Posse, S., Wiese, S., Gembris, D., Mathiak, K., Kessler, C., Grosse‐Ruyken, M. L., ... & Kiselev, V. G. (1999). Enhancement of BOLD‐contrast sensitivity by single‐shot multi‐echo functional MR imaging. Magnetic Resonance in Medicine: An Official Journal of the International Society for Magnetic Resonance in Medicine, 42(1), 87-97.\n",
      "INFO:REFERENCES:Li, Y.O., Adalı, T. and Calhoun, V.D., (2007). Estimating the number of independent components for functional magnetic resonance imaging data. Human brain mapping, 28(11), pp.1251-1266.\n",
      "INFO:REPORT:Principal component analysis based on the PCA component estimation with a Moving Average(stationary Gaussian) process (Li et al., 2007) was applied to the optimally combined data for dimensionality reduction.\n",
      "INFO:tedana.decomposition.pca:Computing PCA of optimally combined multi-echo data\n",
      "Computing PCA of optimally combined multi-echo data\n",
      "INFO:mapca.mapca:Performing dimensionality reduction based on GIFT (https://trendscenter.org/software/gift/) and Li, Y. O., Adali, T., & Calhoun, V. D. (2007). Estimating the number of independent components for functional magnetic resonance imaging data. Human Brain Mapping, 28(11), 1251–1266. https://doi.org/10.1002/hbm.20359\n",
      "Performing dimensionality reduction based on GIFT (https://trendscenter.org/software/gift/) and Li, Y. O., Adali, T., & Calhoun, V. D. (2007). Estimating the number of independent components for functional magnetic resonance imaging data. Human Brain Mapping, 28(11), 1251–1266. https://doi.org/10.1002/hbm.20359\n",
      "INFO:mapca.mapca:Performing SVD on original data...\n",
      "Performing SVD on original data...\n",
      "INFO:mapca.mapca:SVD done on original data\n",
      "SVD done on original data\n",
      "INFO:mapca.mapca:Estimating the subsampling depth for effective i.i.d samples...\n",
      "Estimating the subsampling depth for effective i.i.d samples...\n",
      "INFO:mapca.mapca:Generating subsampled i.i.d. data...\n",
      "Generating subsampled i.i.d. data...\n",
      "INFO:mapca.mapca:Performing SVD on subsampled i.i.d. data...\n",
      "Performing SVD on subsampled i.i.d. data...\n",
      "INFO:mapca.mapca:SVD done on subsampled i.i.d. data\n",
      "SVD done on subsampled i.i.d. data\n",
      "INFO:mapca.mapca:Effective number of i.i.d. samples 6410\n",
      "Effective number of i.i.d. samples 6410\n",
      "INFO:mapca.mapca:Perform eigen spectrum adjustment ...\n",
      "Perform eigen spectrum adjustment ...\n",
      "INFO:mapca.mapca:Estimating the dimensionality ...\n",
      "Estimating the dimensionality ...\n",
      "INFO:mapca.mapca:Estimated number of components is 18\n",
      "Estimated number of components is 18\n",
      "INFO:REPORT:A series of TE-dependence metrics were calculated for each component, including Kappa, Rho, and variance explained.\n",
      "INFO:tedana.metrics.kundu_fit:Fitting TE- and S0-dependent models to components\n",
      "Fitting TE- and S0-dependent models to components\n",
      "INFO:tedana.decomposition.pca:Selected 18 components with mdl dimensionality detection\n",
      "Selected 18 components with mdl dimensionality detection\n",
      "INFO:REPORT:Independent component analysis was then used to decompose the dimensionally reduced dataset.\n",
      "INFO:tedana.decomposition.ica:ICA with random seed 42 converged in 22 iterations\n",
      "ICA with random seed 42 converged in 22 iterations\n",
      "INFO:tedana.workflows.tedana:Making second component selection guess from ICA results\n",
      "Making second component selection guess from ICA results\n",
      "INFO:REPORT:A series of TE-dependence metrics were calculated for each component, including Kappa, Rho, and variance explained.\n",
      "INFO:tedana.metrics.kundu_fit:Fitting TE- and S0-dependent models to components\n",
      "Fitting TE- and S0-dependent models to components\n",
      "INFO:tedana.metrics.kundu_fit:Performing spatial clustering of components\n",
      "Performing spatial clustering of components\n",
      "INFO:tedana.selection.tedica:Performing ICA component selection with Kundu decision tree v2.5\n",
      "Performing ICA component selection with Kundu decision tree v2.5\n",
      "INFO:REPORT:Next, component selection was performed to identify BOLD (TE-dependent), non-BOLD (TE-independent), and uncertain (low-variance) components using the Kundu decision tree (v2.5; Kundu et al., 2013).\n",
      "INFO:REFERENCES:Kundu, P., Brenowitz, N. D., Voon, V., Worbe, Y., Vértes, P. E., Inati, S. J., ... & Bullmore, E. T. (2013). Integrated strategy for improving functional connectivity mapping using multiecho fMRI. Proceedings of the National Academy of Sciences, 110(40), 16187-16192.\n",
      "INFO:tedana.io:Writing optimally combined time series: /Users/suhwan/Dropbox/Projects/sync_SEP/data/coil_test/20210821_multi_echo_RAs/GEONWOO2_ME2/preprocessed/1_3ME_CMRR_3ISO_PA_64CH_MB4_IA2_0005/tedana_outputs/ts_OC.nii.gz\n",
      "Writing optimally combined time series: /Users/suhwan/Dropbox/Projects/sync_SEP/data/coil_test/20210821_multi_echo_RAs/GEONWOO2_ME2/preprocessed/1_3ME_CMRR_3ISO_PA_64CH_MB4_IA2_0005/tedana_outputs/ts_OC.nii.gz\n",
      "INFO:tedana.io:Variance explained by ICA decomposition: 60.33%\n",
      "Variance explained by ICA decomposition: 60.33%\n",
      "INFO:tedana.io:Writing high-Kappa time series: /Users/suhwan/Dropbox/Projects/sync_SEP/data/coil_test/20210821_multi_echo_RAs/GEONWOO2_ME2/preprocessed/1_3ME_CMRR_3ISO_PA_64CH_MB4_IA2_0005/tedana_outputs/hik_ts_OC.nii.gz\n",
      "Writing high-Kappa time series: /Users/suhwan/Dropbox/Projects/sync_SEP/data/coil_test/20210821_multi_echo_RAs/GEONWOO2_ME2/preprocessed/1_3ME_CMRR_3ISO_PA_64CH_MB4_IA2_0005/tedana_outputs/hik_ts_OC.nii.gz\n",
      "INFO:tedana.io:Writing low-Kappa time series: /Users/suhwan/Dropbox/Projects/sync_SEP/data/coil_test/20210821_multi_echo_RAs/GEONWOO2_ME2/preprocessed/1_3ME_CMRR_3ISO_PA_64CH_MB4_IA2_0005/tedana_outputs/lowk_ts_OC.nii.gz\n",
      "Writing low-Kappa time series: /Users/suhwan/Dropbox/Projects/sync_SEP/data/coil_test/20210821_multi_echo_RAs/GEONWOO2_ME2/preprocessed/1_3ME_CMRR_3ISO_PA_64CH_MB4_IA2_0005/tedana_outputs/lowk_ts_OC.nii.gz\n",
      "INFO:tedana.io:Writing denoised time series: /Users/suhwan/Dropbox/Projects/sync_SEP/data/coil_test/20210821_multi_echo_RAs/GEONWOO2_ME2/preprocessed/1_3ME_CMRR_3ISO_PA_64CH_MB4_IA2_0005/tedana_outputs/dn_ts_OC.nii.gz\n",
      "Writing denoised time series: /Users/suhwan/Dropbox/Projects/sync_SEP/data/coil_test/20210821_multi_echo_RAs/GEONWOO2_ME2/preprocessed/1_3ME_CMRR_3ISO_PA_64CH_MB4_IA2_0005/tedana_outputs/dn_ts_OC.nii.gz\n",
      "INFO:tedana.io:Writing full ICA coefficient feature set: /Users/suhwan/Dropbox/Projects/sync_SEP/data/coil_test/20210821_multi_echo_RAs/GEONWOO2_ME2/preprocessed/1_3ME_CMRR_3ISO_PA_64CH_MB4_IA2_0005/tedana_outputs/betas_OC.nii.gz\n",
      "Writing full ICA coefficient feature set: /Users/suhwan/Dropbox/Projects/sync_SEP/data/coil_test/20210821_multi_echo_RAs/GEONWOO2_ME2/preprocessed/1_3ME_CMRR_3ISO_PA_64CH_MB4_IA2_0005/tedana_outputs/betas_OC.nii.gz\n",
      "INFO:tedana.io:Writing denoised ICA coefficient feature set: /Users/suhwan/Dropbox/Projects/sync_SEP/data/coil_test/20210821_multi_echo_RAs/GEONWOO2_ME2/preprocessed/1_3ME_CMRR_3ISO_PA_64CH_MB4_IA2_0005/tedana_outputs/betas_hik_OC.nii.gz\n",
      "Writing denoised ICA coefficient feature set: /Users/suhwan/Dropbox/Projects/sync_SEP/data/coil_test/20210821_multi_echo_RAs/GEONWOO2_ME2/preprocessed/1_3ME_CMRR_3ISO_PA_64CH_MB4_IA2_0005/tedana_outputs/betas_hik_OC.nii.gz\n",
      "INFO:tedana.io:Writing Z-normalized spatial component maps: /Users/suhwan/Dropbox/Projects/sync_SEP/data/coil_test/20210821_multi_echo_RAs/GEONWOO2_ME2/preprocessed/1_3ME_CMRR_3ISO_PA_64CH_MB4_IA2_0005/tedana_outputs/feats_OC2.nii.gz\n",
      "Writing Z-normalized spatial component maps: /Users/suhwan/Dropbox/Projects/sync_SEP/data/coil_test/20210821_multi_echo_RAs/GEONWOO2_ME2/preprocessed/1_3ME_CMRR_3ISO_PA_64CH_MB4_IA2_0005/tedana_outputs/feats_OC2.nii.gz\n",
      "INFO:REPORT:This workflow used numpy (Van Der Walt, Colbert, & Varoquaux, 2011), scipy (Jones et al., 2001), pandas (McKinney, 2010), scikit-learn (Pedregosa et al., 2011), nilearn, and nibabel (Brett et al., 2019).\n",
      "INFO:REFERENCES:Van Der Walt, S., Colbert, S. C., & Varoquaux, G. (2011). The NumPy array: a structure for efficient numerical computation. Computing in Science & Engineering, 13(2), 22.\n",
      "INFO:REFERENCES:Jones E, Oliphant E, Peterson P, et al. SciPy: Open Source Scientific Tools for Python, 2001-, http://www.scipy.org/\n",
      "INFO:REFERENCES:McKinney, W. (2010, June). Data structures for statistical computing in python. In Proceedings of the 9th Python in Science Conference (Vol. 445, pp. 51-56).\n",
      "INFO:REFERENCES:Pedregosa, F., Varoquaux, G., Gramfort, A., Michel, V., Thirion, B., Grisel, O., ... & Vanderplas, J. (2011). Scikit-learn: Machine learning in Python. Journal of machine learning research, 12(Oct), 2825-2830.\n",
      "INFO:REFERENCES:Brett, M., Markiewicz, C. J., Hanke, M., Côté, M.-A., Cipollini, B., McCarthy, P., … freec84. (2019, May 28). nipy/nibabel. Zenodo. http://doi.org/10.5281/zenodo.3233118\n",
      "INFO:REPORT:This workflow also used the Dice similarity index (Dice, 1945; Sørensen, 1948).\n",
      "INFO:REFERENCES:Dice, L. R. (1945). Measures of the amount of ecologic association between species. Ecology, 26(3), 297-302.\n",
      "INFO:REFERENCES:Sørensen, T. J. (1948). A method of establishing groups of equal amplitude in plant sociology based on similarity of species content and its application to analyses of the vegetation on Danish commons. I kommission hos E. Munksgaard.\n",
      "INFO:tedana.workflows.tedana:Making figures folder with static component maps and timecourse plots.\n",
      "Making figures folder with static component maps and timecourse plots.\n",
      "INFO:tedana.workflows.tedana:Generating dynamic report\n",
      "Generating dynamic report\n",
      "INFO:tedana.workflows.tedana:Workflow completed\n"
     ]
    }
   ],
   "source": [
    "with threadpool_limits(limits=n_threads, user_api=None):\n",
    "    tedana_workflow(files2, tes, out_dir=outdir, fittype='curvefit')"
   ]
  },
  {
   "cell_type": "code",
   "execution_count": 76,
   "metadata": {},
   "outputs": [
    {
     "name": "stdout",
     "output_type": "stream",
     "text": [
      "/Users/suhwan/Dropbox/Projects/sync_SEP/data/coil_test/20210803_multi_echo/preprocessed/1_2_3ME_HALF_CMRR_2_7ISO_PA_64CH+FLEX_MB4_IA2_0007/tedana_outputstedana_report.html\n"
     ]
    },
    {
     "data": {
      "text/plain": [
       "True"
      ]
     },
     "execution_count": 76,
     "metadata": {},
     "output_type": "execute_result"
    }
   ],
   "source": [
    "new = 2 # open in a new tab, if possible\n",
    "\n",
    "url = str(os.path.abspath(outdir + 'tedana_report.html'))\n",
    "print(url)\n",
    "webbrowser.open(\"file://\" + url,new=new)"
   ]
  },
  {
   "cell_type": "code",
   "execution_count": 101,
   "metadata": {},
   "outputs": [
    {
     "name": "stdout",
     "output_type": "stream",
     "text": [
      "CPU times: user 434 µs, sys: 532 µs, total: 966 µs\n",
      "Wall time: 520 µs\n"
     ]
    },
    {
     "data": {
      "text/plain": [
       "['/Users/suhwan/Dropbox/Projects/sync_SEP/data/coil_test/20210803_multi_echo_JJ/preprocessed/1_3_FULL_3ME_CMRR_2_7ISO_PA_64CH+FLEX_MB4_IA2_0009/ra20210803093831_1_3_Full_3ME_CMRR_2.7iso_PA_64ch+Flex_mb4_IA2_9_e1.nii',\n",
       " '/Users/suhwan/Dropbox/Projects/sync_SEP/data/coil_test/20210803_multi_echo_JJ/preprocessed/1_3_FULL_3ME_CMRR_2_7ISO_PA_64CH+FLEX_MB4_IA2_0009/ra20210803093831_1_3_Full_3ME_CMRR_2.7iso_PA_64ch+Flex_mb4_IA2_9_e2.nii',\n",
       " '/Users/suhwan/Dropbox/Projects/sync_SEP/data/coil_test/20210803_multi_echo_JJ/preprocessed/1_3_FULL_3ME_CMRR_2_7ISO_PA_64CH+FLEX_MB4_IA2_0009/ra20210803093831_1_3_Full_3ME_CMRR_2.7iso_PA_64ch+Flex_mb4_IA2_9_e3.nii']"
      ]
     },
     "execution_count": 101,
     "metadata": {},
     "output_type": "execute_result"
    }
   ],
   "source": [
    "%%time\n",
    "#files = sorted(glob(op.join(dset_dir5, 'p06*.nii.gz')))\n",
    "basedir =  '/Users/suhwan/Dropbox/Projects/sync_SEP/data/coil_test/20210803_multi_echo_JJ/preprocessed/1_3_FULL_3ME_CMRR_2_7ISO_PA_64CH+FLEX_MB4_IA2_0009/'\n",
    "outdir =  '/Users/suhwan/Dropbox/Projects/sync_SEP/data/coil_test/20210803_multi_echo_JJ/preprocessed/1_3_FULL_3ME_CMRR_2_7ISO_PA_64CH+FLEX_MB4_IA2_0009/tedana_outputs'\n",
    "outdir2 =  '/Users/suhwan/Dropbox/Projects/sync_SEP/data/coil_test/20210803_multi_echo_JJ/preprocessed/1_3_FULL_3ME_CMRR_2_7ISO_PA_64CH+FLEX_MB4_IA2_0009/t2smap_outputs'\n",
    "files3 = sorted(glob(op.join(basedir, 'ra*e*.nii')))\n",
    "files3 "
   ]
  },
  {
   "cell_type": "code",
   "execution_count": 82,
   "metadata": {},
   "outputs": [],
   "source": [
    "# Example TR replacement code\n",
    "\n",
    "# Set values below by typing\n",
    "# Image you'd like to replace the TR for\n",
    "input_image = files3[2]\n",
    "# The TR that the data should have IN SECONDS\n",
    "new_tr = 1.5\n",
    "# You can set the copy of the file to have a different name here\n",
    "# By default, it overwrites the original\n",
    "output_image = input_image\n",
    "\n",
    "# Copy paste this\n",
    "import nibabel as nib\n",
    "img = nib.load(input_image)\n",
    "zooms = img.header.get_zooms()\n",
    "new_zooms = (zooms[0], zooms[1], zooms[2], new_tr)\n",
    "img.header.set_zooms(new_zooms)\n",
    "nib.save(img, output_image)"
   ]
  },
  {
   "cell_type": "code",
   "execution_count": 102,
   "metadata": {},
   "outputs": [
    {
     "name": "stderr",
     "output_type": "stream",
     "text": [
      "Using output directory: /Users/suhwan/Dropbox/Projects/sync_SEP/data/coil_test/20210803_multi_echo_JJ/preprocessed/1_3_FULL_3ME_CMRR_2_7ISO_PA_64CH+FLEX_MB4_IA2_0009/t2smap_outputs\n",
      "Using output directory: /Users/suhwan/Dropbox/Projects/sync_SEP/data/coil_test/20210803_multi_echo_JJ/preprocessed/1_3_FULL_3ME_CMRR_2_7ISO_PA_64CH+FLEX_MB4_IA2_0009/t2smap_outputs\n",
      "Using output directory: /Users/suhwan/Dropbox/Projects/sync_SEP/data/coil_test/20210803_multi_echo_JJ/preprocessed/1_3_FULL_3ME_CMRR_2_7ISO_PA_64CH+FLEX_MB4_IA2_0009/t2smap_outputs\n",
      "Using output directory: /Users/suhwan/Dropbox/Projects/sync_SEP/data/coil_test/20210803_multi_echo_JJ/preprocessed/1_3_FULL_3ME_CMRR_2_7ISO_PA_64CH+FLEX_MB4_IA2_0009/t2smap_outputs\n",
      "Using output directory: /Users/suhwan/Dropbox/Projects/sync_SEP/data/coil_test/20210803_multi_echo_JJ/preprocessed/1_3_FULL_3ME_CMRR_2_7ISO_PA_64CH+FLEX_MB4_IA2_0009/t2smap_outputs\n",
      "Loading input data: ['/Users/suhwan/Dropbox/Projects/sync_SEP/data/coil_test/20210803_multi_echo_JJ/preprocessed/1_3_FULL_3ME_CMRR_2_7ISO_PA_64CH+FLEX_MB4_IA2_0009/ra20210803093831_1_3_Full_3ME_CMRR_2.7iso_PA_64ch+Flex_mb4_IA2_9_e1.nii', '/Users/suhwan/Dropbox/Projects/sync_SEP/data/coil_test/20210803_multi_echo_JJ/preprocessed/1_3_FULL_3ME_CMRR_2_7ISO_PA_64CH+FLEX_MB4_IA2_0009/ra20210803093831_1_3_Full_3ME_CMRR_2.7iso_PA_64ch+Flex_mb4_IA2_9_e2.nii', '/Users/suhwan/Dropbox/Projects/sync_SEP/data/coil_test/20210803_multi_echo_JJ/preprocessed/1_3_FULL_3ME_CMRR_2_7ISO_PA_64CH+FLEX_MB4_IA2_0009/ra20210803093831_1_3_Full_3ME_CMRR_2.7iso_PA_64ch+Flex_mb4_IA2_9_e3.nii']\n",
      "Loading input data: ['/Users/suhwan/Dropbox/Projects/sync_SEP/data/coil_test/20210803_multi_echo_JJ/preprocessed/1_3_FULL_3ME_CMRR_2_7ISO_PA_64CH+FLEX_MB4_IA2_0009/ra20210803093831_1_3_Full_3ME_CMRR_2.7iso_PA_64ch+Flex_mb4_IA2_9_e1.nii', '/Users/suhwan/Dropbox/Projects/sync_SEP/data/coil_test/20210803_multi_echo_JJ/preprocessed/1_3_FULL_3ME_CMRR_2_7ISO_PA_64CH+FLEX_MB4_IA2_0009/ra20210803093831_1_3_Full_3ME_CMRR_2.7iso_PA_64ch+Flex_mb4_IA2_9_e2.nii', '/Users/suhwan/Dropbox/Projects/sync_SEP/data/coil_test/20210803_multi_echo_JJ/preprocessed/1_3_FULL_3ME_CMRR_2_7ISO_PA_64CH+FLEX_MB4_IA2_0009/ra20210803093831_1_3_Full_3ME_CMRR_2.7iso_PA_64ch+Flex_mb4_IA2_9_e3.nii']\n",
      "Loading input data: ['/Users/suhwan/Dropbox/Projects/sync_SEP/data/coil_test/20210803_multi_echo_JJ/preprocessed/1_3_FULL_3ME_CMRR_2_7ISO_PA_64CH+FLEX_MB4_IA2_0009/ra20210803093831_1_3_Full_3ME_CMRR_2.7iso_PA_64ch+Flex_mb4_IA2_9_e1.nii', '/Users/suhwan/Dropbox/Projects/sync_SEP/data/coil_test/20210803_multi_echo_JJ/preprocessed/1_3_FULL_3ME_CMRR_2_7ISO_PA_64CH+FLEX_MB4_IA2_0009/ra20210803093831_1_3_Full_3ME_CMRR_2.7iso_PA_64ch+Flex_mb4_IA2_9_e2.nii', '/Users/suhwan/Dropbox/Projects/sync_SEP/data/coil_test/20210803_multi_echo_JJ/preprocessed/1_3_FULL_3ME_CMRR_2_7ISO_PA_64CH+FLEX_MB4_IA2_0009/ra20210803093831_1_3_Full_3ME_CMRR_2.7iso_PA_64ch+Flex_mb4_IA2_9_e3.nii']\n",
      "Loading input data: ['/Users/suhwan/Dropbox/Projects/sync_SEP/data/coil_test/20210803_multi_echo_JJ/preprocessed/1_3_FULL_3ME_CMRR_2_7ISO_PA_64CH+FLEX_MB4_IA2_0009/ra20210803093831_1_3_Full_3ME_CMRR_2.7iso_PA_64ch+Flex_mb4_IA2_9_e1.nii', '/Users/suhwan/Dropbox/Projects/sync_SEP/data/coil_test/20210803_multi_echo_JJ/preprocessed/1_3_FULL_3ME_CMRR_2_7ISO_PA_64CH+FLEX_MB4_IA2_0009/ra20210803093831_1_3_Full_3ME_CMRR_2.7iso_PA_64ch+Flex_mb4_IA2_9_e2.nii', '/Users/suhwan/Dropbox/Projects/sync_SEP/data/coil_test/20210803_multi_echo_JJ/preprocessed/1_3_FULL_3ME_CMRR_2_7ISO_PA_64CH+FLEX_MB4_IA2_0009/ra20210803093831_1_3_Full_3ME_CMRR_2.7iso_PA_64ch+Flex_mb4_IA2_9_e3.nii']\n",
      "Loading input data: ['/Users/suhwan/Dropbox/Projects/sync_SEP/data/coil_test/20210803_multi_echo_JJ/preprocessed/1_3_FULL_3ME_CMRR_2_7ISO_PA_64CH+FLEX_MB4_IA2_0009/ra20210803093831_1_3_Full_3ME_CMRR_2.7iso_PA_64ch+Flex_mb4_IA2_9_e1.nii', '/Users/suhwan/Dropbox/Projects/sync_SEP/data/coil_test/20210803_multi_echo_JJ/preprocessed/1_3_FULL_3ME_CMRR_2_7ISO_PA_64CH+FLEX_MB4_IA2_0009/ra20210803093831_1_3_Full_3ME_CMRR_2.7iso_PA_64ch+Flex_mb4_IA2_9_e2.nii', '/Users/suhwan/Dropbox/Projects/sync_SEP/data/coil_test/20210803_multi_echo_JJ/preprocessed/1_3_FULL_3ME_CMRR_2_7ISO_PA_64CH+FLEX_MB4_IA2_0009/ra20210803093831_1_3_Full_3ME_CMRR_2.7iso_PA_64ch+Flex_mb4_IA2_9_e3.nii']\n",
      "Computing adaptive mask\n",
      "Computing adaptive mask\n",
      "Computing adaptive mask\n",
      "Computing adaptive mask\n",
      "Computing adaptive mask\n",
      "Computing adaptive T2* map\n",
      "Computing adaptive T2* map\n",
      "Computing adaptive T2* map\n",
      "Computing adaptive T2* map\n",
      "Computing adaptive T2* map\n",
      "Computing optimal combination\n",
      "Computing optimal combination\n",
      "Computing optimal combination\n",
      "Computing optimal combination\n",
      "Computing optimal combination\n",
      "Optimally combining data with voxel-wise T2* estimates\n",
      "Optimally combining data with voxel-wise T2* estimates\n",
      "Optimally combining data with voxel-wise T2* estimates\n",
      "Optimally combining data with voxel-wise T2* estimates\n",
      "Optimally combining data with voxel-wise T2* estimates\n"
     ]
    }
   ],
   "source": [
    "# RUN TEDANA\n",
    "tes = [15.4, 36.6, 57.8]\n",
    "#tedana_workflow(files3, tes, out_dir=outdir, tedort=False, fittype='curvefit')\n",
    "t2smap_workflow(files3, tes, out_dir=outdir2, fittype='curvefit')"
   ]
  },
  {
   "cell_type": "code",
   "execution_count": 103,
   "metadata": {},
   "outputs": [
    {
     "name": "stdout",
     "output_type": "stream",
     "text": [
      "CPU times: user 629 µs, sys: 769 µs, total: 1.4 ms\n",
      "Wall time: 744 µs\n"
     ]
    },
    {
     "data": {
      "text/plain": [
       "['/Users/suhwan/Dropbox/Projects/sync_SEP/data/coil_test/20210803_multi_echo_JJ/preprocessed/1_4_HALF_3ME_CMRR_2_7ISO_PA_64CH+FLEX_MB4_IA_2_0011/ra20210803093831_1_4_HALF_3ME_CMRR_2.7iso_PA_64ch+Flex_mb4_IA_2_11_e1.nii',\n",
       " '/Users/suhwan/Dropbox/Projects/sync_SEP/data/coil_test/20210803_multi_echo_JJ/preprocessed/1_4_HALF_3ME_CMRR_2_7ISO_PA_64CH+FLEX_MB4_IA_2_0011/ra20210803093831_1_4_HALF_3ME_CMRR_2.7iso_PA_64ch+Flex_mb4_IA_2_11_e2.nii',\n",
       " '/Users/suhwan/Dropbox/Projects/sync_SEP/data/coil_test/20210803_multi_echo_JJ/preprocessed/1_4_HALF_3ME_CMRR_2_7ISO_PA_64CH+FLEX_MB4_IA_2_0011/ra20210803093831_1_4_HALF_3ME_CMRR_2.7iso_PA_64ch+Flex_mb4_IA_2_11_e3.nii']"
      ]
     },
     "execution_count": 103,
     "metadata": {},
     "output_type": "execute_result"
    }
   ],
   "source": [
    "%%time\n",
    "#files = sorted(glob(op.join(dset_dir5, 'p06*.nii.gz')))\n",
    "basedir =  '/Users/suhwan/Dropbox/Projects/sync_SEP/data/coil_test/20210803_multi_echo_JJ/preprocessed/1_4_HALF_3ME_CMRR_2_7ISO_PA_64CH+FLEX_MB4_IA_2_0011/'\n",
    "outdir =  '/Users/suhwan/Dropbox/Projects/sync_SEP/data/coil_test/20210803_multi_echo_JJ/preprocessed/1_4_HALF_3ME_CMRR_2_7ISO_PA_64CH+FLEX_MB4_IA_2_0011/tedana_outputs'\n",
    "outdir2 =  '/Users/suhwan/Dropbox/Projects/sync_SEP/data/coil_test/20210803_multi_echo_JJ/preprocessed/1_4_HALF_3ME_CMRR_2_7ISO_PA_64CH+FLEX_MB4_IA_2_0011/t2smap_outputs'\n",
    "files4 = sorted(glob(op.join(basedir, 'ra*e*.nii')))\n",
    "files4 "
   ]
  },
  {
   "cell_type": "code",
   "execution_count": 90,
   "metadata": {},
   "outputs": [],
   "source": [
    "# Example TR replacement code\n",
    "\n",
    "# Set values below by typing\n",
    "# Image you'd like to replace the TR for\n",
    "input_image = files4[0]\n",
    "# The TR that the data should have IN SECONDS\n",
    "new_tr = 1.5\n",
    "# You can set the copy of the file to have a different name here\n",
    "# By default, it overwrites the original\n",
    "output_image = input_image\n",
    "\n",
    "# Copy paste this\n",
    "import nibabel as nib\n",
    "img = nib.load(input_image)\n",
    "zooms = img.header.get_zooms()\n",
    "new_zooms = (zooms[0], zooms[1], zooms[2], new_tr)\n",
    "img.header.set_zooms(new_zooms)\n",
    "nib.save(img, output_image)"
   ]
  },
  {
   "cell_type": "code",
   "execution_count": 104,
   "metadata": {},
   "outputs": [
    {
     "name": "stderr",
     "output_type": "stream",
     "text": [
      "Using output directory: /Users/suhwan/Dropbox/Projects/sync_SEP/data/coil_test/20210803_multi_echo_JJ/preprocessed/1_4_HALF_3ME_CMRR_2_7ISO_PA_64CH+FLEX_MB4_IA_2_0011/t2smap_outputs\n",
      "Using output directory: /Users/suhwan/Dropbox/Projects/sync_SEP/data/coil_test/20210803_multi_echo_JJ/preprocessed/1_4_HALF_3ME_CMRR_2_7ISO_PA_64CH+FLEX_MB4_IA_2_0011/t2smap_outputs\n",
      "Using output directory: /Users/suhwan/Dropbox/Projects/sync_SEP/data/coil_test/20210803_multi_echo_JJ/preprocessed/1_4_HALF_3ME_CMRR_2_7ISO_PA_64CH+FLEX_MB4_IA_2_0011/t2smap_outputs\n",
      "Using output directory: /Users/suhwan/Dropbox/Projects/sync_SEP/data/coil_test/20210803_multi_echo_JJ/preprocessed/1_4_HALF_3ME_CMRR_2_7ISO_PA_64CH+FLEX_MB4_IA_2_0011/t2smap_outputs\n",
      "Using output directory: /Users/suhwan/Dropbox/Projects/sync_SEP/data/coil_test/20210803_multi_echo_JJ/preprocessed/1_4_HALF_3ME_CMRR_2_7ISO_PA_64CH+FLEX_MB4_IA_2_0011/t2smap_outputs\n",
      "Loading input data: ['/Users/suhwan/Dropbox/Projects/sync_SEP/data/coil_test/20210803_multi_echo_JJ/preprocessed/1_4_HALF_3ME_CMRR_2_7ISO_PA_64CH+FLEX_MB4_IA_2_0011/ra20210803093831_1_4_HALF_3ME_CMRR_2.7iso_PA_64ch+Flex_mb4_IA_2_11_e1.nii', '/Users/suhwan/Dropbox/Projects/sync_SEP/data/coil_test/20210803_multi_echo_JJ/preprocessed/1_4_HALF_3ME_CMRR_2_7ISO_PA_64CH+FLEX_MB4_IA_2_0011/ra20210803093831_1_4_HALF_3ME_CMRR_2.7iso_PA_64ch+Flex_mb4_IA_2_11_e2.nii', '/Users/suhwan/Dropbox/Projects/sync_SEP/data/coil_test/20210803_multi_echo_JJ/preprocessed/1_4_HALF_3ME_CMRR_2_7ISO_PA_64CH+FLEX_MB4_IA_2_0011/ra20210803093831_1_4_HALF_3ME_CMRR_2.7iso_PA_64ch+Flex_mb4_IA_2_11_e3.nii']\n",
      "Loading input data: ['/Users/suhwan/Dropbox/Projects/sync_SEP/data/coil_test/20210803_multi_echo_JJ/preprocessed/1_4_HALF_3ME_CMRR_2_7ISO_PA_64CH+FLEX_MB4_IA_2_0011/ra20210803093831_1_4_HALF_3ME_CMRR_2.7iso_PA_64ch+Flex_mb4_IA_2_11_e1.nii', '/Users/suhwan/Dropbox/Projects/sync_SEP/data/coil_test/20210803_multi_echo_JJ/preprocessed/1_4_HALF_3ME_CMRR_2_7ISO_PA_64CH+FLEX_MB4_IA_2_0011/ra20210803093831_1_4_HALF_3ME_CMRR_2.7iso_PA_64ch+Flex_mb4_IA_2_11_e2.nii', '/Users/suhwan/Dropbox/Projects/sync_SEP/data/coil_test/20210803_multi_echo_JJ/preprocessed/1_4_HALF_3ME_CMRR_2_7ISO_PA_64CH+FLEX_MB4_IA_2_0011/ra20210803093831_1_4_HALF_3ME_CMRR_2.7iso_PA_64ch+Flex_mb4_IA_2_11_e3.nii']\n",
      "Loading input data: ['/Users/suhwan/Dropbox/Projects/sync_SEP/data/coil_test/20210803_multi_echo_JJ/preprocessed/1_4_HALF_3ME_CMRR_2_7ISO_PA_64CH+FLEX_MB4_IA_2_0011/ra20210803093831_1_4_HALF_3ME_CMRR_2.7iso_PA_64ch+Flex_mb4_IA_2_11_e1.nii', '/Users/suhwan/Dropbox/Projects/sync_SEP/data/coil_test/20210803_multi_echo_JJ/preprocessed/1_4_HALF_3ME_CMRR_2_7ISO_PA_64CH+FLEX_MB4_IA_2_0011/ra20210803093831_1_4_HALF_3ME_CMRR_2.7iso_PA_64ch+Flex_mb4_IA_2_11_e2.nii', '/Users/suhwan/Dropbox/Projects/sync_SEP/data/coil_test/20210803_multi_echo_JJ/preprocessed/1_4_HALF_3ME_CMRR_2_7ISO_PA_64CH+FLEX_MB4_IA_2_0011/ra20210803093831_1_4_HALF_3ME_CMRR_2.7iso_PA_64ch+Flex_mb4_IA_2_11_e3.nii']\n",
      "Loading input data: ['/Users/suhwan/Dropbox/Projects/sync_SEP/data/coil_test/20210803_multi_echo_JJ/preprocessed/1_4_HALF_3ME_CMRR_2_7ISO_PA_64CH+FLEX_MB4_IA_2_0011/ra20210803093831_1_4_HALF_3ME_CMRR_2.7iso_PA_64ch+Flex_mb4_IA_2_11_e1.nii', '/Users/suhwan/Dropbox/Projects/sync_SEP/data/coil_test/20210803_multi_echo_JJ/preprocessed/1_4_HALF_3ME_CMRR_2_7ISO_PA_64CH+FLEX_MB4_IA_2_0011/ra20210803093831_1_4_HALF_3ME_CMRR_2.7iso_PA_64ch+Flex_mb4_IA_2_11_e2.nii', '/Users/suhwan/Dropbox/Projects/sync_SEP/data/coil_test/20210803_multi_echo_JJ/preprocessed/1_4_HALF_3ME_CMRR_2_7ISO_PA_64CH+FLEX_MB4_IA_2_0011/ra20210803093831_1_4_HALF_3ME_CMRR_2.7iso_PA_64ch+Flex_mb4_IA_2_11_e3.nii']\n",
      "Loading input data: ['/Users/suhwan/Dropbox/Projects/sync_SEP/data/coil_test/20210803_multi_echo_JJ/preprocessed/1_4_HALF_3ME_CMRR_2_7ISO_PA_64CH+FLEX_MB4_IA_2_0011/ra20210803093831_1_4_HALF_3ME_CMRR_2.7iso_PA_64ch+Flex_mb4_IA_2_11_e1.nii', '/Users/suhwan/Dropbox/Projects/sync_SEP/data/coil_test/20210803_multi_echo_JJ/preprocessed/1_4_HALF_3ME_CMRR_2_7ISO_PA_64CH+FLEX_MB4_IA_2_0011/ra20210803093831_1_4_HALF_3ME_CMRR_2.7iso_PA_64ch+Flex_mb4_IA_2_11_e2.nii', '/Users/suhwan/Dropbox/Projects/sync_SEP/data/coil_test/20210803_multi_echo_JJ/preprocessed/1_4_HALF_3ME_CMRR_2_7ISO_PA_64CH+FLEX_MB4_IA_2_0011/ra20210803093831_1_4_HALF_3ME_CMRR_2.7iso_PA_64ch+Flex_mb4_IA_2_11_e3.nii']\n",
      "Computing adaptive mask\n",
      "Computing adaptive mask\n",
      "Computing adaptive mask\n",
      "Computing adaptive mask\n",
      "Computing adaptive mask\n",
      "Computing adaptive T2* map\n",
      "Computing adaptive T2* map\n",
      "Computing adaptive T2* map\n",
      "Computing adaptive T2* map\n",
      "Computing adaptive T2* map\n",
      "Computing optimal combination\n",
      "Computing optimal combination\n",
      "Computing optimal combination\n",
      "Computing optimal combination\n",
      "Computing optimal combination\n",
      "Optimally combining data with voxel-wise T2* estimates\n",
      "Optimally combining data with voxel-wise T2* estimates\n",
      "Optimally combining data with voxel-wise T2* estimates\n",
      "Optimally combining data with voxel-wise T2* estimates\n",
      "Optimally combining data with voxel-wise T2* estimates\n"
     ]
    }
   ],
   "source": [
    "# RUN TEDANA\n",
    "tes = [15.4, 36.6, 57.8]\n",
    "#tedana_workflow(files4, tes, out_dir=outdir, tedort=False, fittype='curvefit')\n",
    "t2smap_workflow(files4, tes, out_dir=outdir2, fittype='curvefit')"
   ]
  },
  {
   "cell_type": "code",
   "execution_count": null,
   "metadata": {},
   "outputs": [],
   "source": []
  }
 ],
 "metadata": {
  "kernelspec": {
   "display_name": "Python 3 (ipykernel)",
   "language": "python",
   "name": "python3"
  },
  "language_info": {
   "codemirror_mode": {
    "name": "ipython",
    "version": 3
   },
   "file_extension": ".py",
   "mimetype": "text/x-python",
   "name": "python",
   "nbconvert_exporter": "python",
   "pygments_lexer": "ipython3",
   "version": "3.7.11"
  }
 },
 "nbformat": 4,
 "nbformat_minor": 4
}
