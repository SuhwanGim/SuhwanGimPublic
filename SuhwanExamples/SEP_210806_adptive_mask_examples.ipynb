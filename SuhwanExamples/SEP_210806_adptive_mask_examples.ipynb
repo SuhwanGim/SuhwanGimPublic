{
 "cells": [
  {
   "cell_type": "code",
   "execution_count": 6,
   "metadata": {},
   "outputs": [],
   "source": [
    "#!pip install tedana\n",
    "%matplotlib inline\n",
    "import os\n",
    "import os.path as op\n",
    "from glob import glob\n",
    "import webbrowser\n",
    "\n",
    "from tedana import (combine, decay, io, utils, __version__)\n",
    "from tedana.workflows import tedana_workflow\n",
    "from tedana.workflows import t2smap_workflow\n",
    "from tedana.workflows.parser_utils import is_valid_file\n",
    "from tedana.due import due, BibTeX\n",
    "#from tedana._utils import tedana_utils\n",
    "\n",
    "import numpy as np\n",
    "import nibabel as nib\n",
    "from scipy import ndimage\n",
    "from scipy import stats\n",
    "from nilearn._utils import check_niimg\n",
    "from sklearn.utils import check_array\n",
    "\n",
    "from threadpoolctl import threadpool_limits\n",
    "import argparse"
   ]
  },
  {
   "cell_type": "code",
   "execution_count": 2,
   "metadata": {},
   "outputs": [
    {
     "name": "stdout",
     "output_type": "stream",
     "text": [
      "CPU times: user 749 µs, sys: 914 µs, total: 1.66 ms\n",
      "Wall time: 850 µs\n"
     ]
    },
    {
     "data": {
      "text/plain": [
       "['/Users/suhwan/Dropbox/Projects/sync_SEP/data/coil_test/20210803_multi_echo/preprocessed/1_2_3ME_HALF_CMRR_2_7ISO_PA_64CH+FLEX_MB4_IA2_0007/ra20210803111531_1_2_3ME_half_CMRR_2.7iso_PA_64ch+Flex_mb4_IA2_7_e1.nii',\n",
       " '/Users/suhwan/Dropbox/Projects/sync_SEP/data/coil_test/20210803_multi_echo/preprocessed/1_2_3ME_HALF_CMRR_2_7ISO_PA_64CH+FLEX_MB4_IA2_0007/ra20210803111531_1_2_3ME_half_CMRR_2.7iso_PA_64ch+Flex_mb4_IA2_7_e2.nii',\n",
       " '/Users/suhwan/Dropbox/Projects/sync_SEP/data/coil_test/20210803_multi_echo/preprocessed/1_2_3ME_HALF_CMRR_2_7ISO_PA_64CH+FLEX_MB4_IA2_0007/ra20210803111531_1_2_3ME_half_CMRR_2.7iso_PA_64ch+Flex_mb4_IA2_7_e3.nii']"
      ]
     },
     "execution_count": 2,
     "metadata": {},
     "output_type": "execute_result"
    }
   ],
   "source": [
    "%%time\n",
    "#files = sorted(glob(op.join(dset_dir5, 'p06*.nii.gz')))\n",
    "basedir =  '/Users/suhwan/Dropbox/Projects/sync_SEP/data/coil_test/20210803_multi_echo/preprocessed/1_2_3ME_HALF_CMRR_2_7ISO_PA_64CH+FLEX_MB4_IA2_0007/'\n",
    "outdir =  '/Users/suhwan/Dropbox/Projects/sync_SEP/data/coil_test/20210803_multi_echo/preprocessed/1_2_3ME_HALF_CMRR_2_7ISO_PA_64CH+FLEX_MB4_IA2_0007/tedana_outputs'\n",
    "outdir2 =  '/Users/suhwan/Dropbox/Projects/sync_SEP/data/coil_test/20210803_multi_echo/preprocessed/1_2_3ME_HALF_CMRR_2_7ISO_PA_64CH+FLEX_MB4_IA2_0007/t2smap_outputs'\n",
    "files2 = sorted(glob(op.join(basedir, 'ra*e*.nii')))\n",
    "files2 "
   ]
  },
  {
   "cell_type": "code",
   "execution_count": 8,
   "metadata": {},
   "outputs": [],
   "source": [
    "catd, ref_img = io.load_data(files2, n_echos=3)\n",
    "getsum=True\n",
    "threshold=1\n",
    "mask = 'none'"
   ]
  },
  {
   "cell_type": "code",
   "execution_count": 9,
   "metadata": {},
   "outputs": [],
   "source": [
    "# take temporal mean of echos and extract non-zero values in first echo\n",
    "echo_means = catd.mean(axis=-1)  # temporal mean of echos\n",
    "first_echo = echo_means[echo_means[:, 0] != 0, 0]\n",
    "\n",
    "# get 33rd %ile of `first_echo` and find corresponding index\n",
    "# NOTE: percentile is arbitrary\n",
    "perc = np.percentile(first_echo, 33, interpolation='higher')\n",
    "perc_val = (echo_means[:, 0] == perc)"
   ]
  },
  {
   "cell_type": "code",
   "execution_count": 15,
   "metadata": {},
   "outputs": [
    {
     "data": {
      "text/plain": [
       "(3,)"
      ]
     },
     "execution_count": 15,
     "metadata": {},
     "output_type": "execute_result"
    }
   ],
   "source": []
  },
  {
   "cell_type": "code",
   "execution_count": 13,
   "metadata": {},
   "outputs": [],
   "source": [
    "# extract values from all echos at relevant index\n",
    "# NOTE: threshold of 1/3 voxel value is arbitrary\n",
    "lthrs = np.squeeze(echo_means[perc_val].T) / 3\n",
    "\n",
    "# if multiple samples were extracted per echo, keep the one w/the highest signal\n",
    "if lthrs.ndim > 1:\n",
    "    lthrs = lthrs[:, lthrs.sum(axis=0).argmax()]"
   ]
  },
  {
   "cell_type": "code",
   "execution_count": 17,
   "metadata": {},
   "outputs": [
    {
     "data": {
      "text/plain": [
       "array([0, 0, 0, ..., 0, 0, 0])"
      ]
     },
     "execution_count": 17,
     "metadata": {},
     "output_type": "execute_result"
    }
   ],
   "source": [
    "# determine samples where absolute value is greater than echo-specific thresholds\n",
    "# and count # of echos that pass criterion\n",
    "masksum = (np.abs(echo_means) > lthrs).sum(axis=-1)\n",
    "masksum"
   ]
  },
  {
   "cell_type": "code",
   "execution_count": null,
   "metadata": {},
   "outputs": [],
   "source": [
    "# make it a boolean mask to (where we have at least `threshold` echoes with good signal)\n",
    "mask = (masksum >= threshold).astype(bool)\n",
    "masksum[masksum < threshold] = 0\n",
    "\n",
    "echo_means = data.mean(axis=-1)  # temporal mean of echos\n",
    "first_echo = echo_means[echo_means[:, 0] != 0, 0]"
   ]
  }
 ],
 "metadata": {
  "kernelspec": {
   "display_name": "Python 3",
   "language": "python",
   "name": "python3"
  },
  "language_info": {
   "codemirror_mode": {
    "name": "ipython",
    "version": 3
   },
   "file_extension": ".py",
   "mimetype": "text/x-python",
   "name": "python",
   "nbconvert_exporter": "python",
   "pygments_lexer": "ipython3",
   "version": "3.8.3"
  }
 },
 "nbformat": 4,
 "nbformat_minor": 4
}
